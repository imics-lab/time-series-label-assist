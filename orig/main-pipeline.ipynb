{
 "cells": [
  {
   "cell_type": "markdown",
   "metadata": {},
   "source": [
    "# Imports"
   ]
  },
  {
   "cell_type": "code",
   "execution_count": 1,
   "metadata": {},
   "outputs": [
    {
     "name": "stdout",
     "output_type": "stream",
     "text": [
      "WARNING:tensorflow:From c:\\Users\\trist\\miniconda3\\envs\\dev-alvi\\Lib\\site-packages\\keras\\src\\losses.py:2976: The name tf.losses.sparse_softmax_cross_entropy is deprecated. Please use tf.compat.v1.losses.sparse_softmax_cross_entropy instead.\n",
      "\n"
     ]
    }
   ],
   "source": [
    "import warnings\n",
    "warnings.filterwarnings(\"ignore\", category=DeprecationWarning)\n",
    "\n",
    "# Dash framework and core components\n",
    "import dash\n",
    "from dash import dcc, html, ctx\n",
    "from dash.dependencies import Input, Output\n",
    "import dash_player\n",
    "\n",
    "# Dash Bootstrap Components for styling\n",
    "import dash_bootstrap_components as dbc\n",
    "\n",
    "# Plotly for interactive plotting\n",
    "import plotly.graph_objs as go\n",
    "from plotly.subplots import make_subplots\n",
    "import ipywidgets as widgets\n",
    "from ipywidgets import Button, Checkbox, GridBox, Layout, Label, FloatSlider, IntText, Text, FloatText\n",
    "\n",
    "# Pandas for data manipulation\n",
    "import pandas as pd\n",
    "import numpy as np\n",
    "import pickle\n",
    "import csv\n",
    "import json\n",
    "\n",
    "# Additional Python libraries\n",
    "import time\n",
    "from datetime import timedelta\n",
    "\n",
    "# system libraries\n",
    "import sys\n",
    "import os\n",
    "import shutil\n",
    "import glob\n",
    "\n",
    "# second interface\n",
    "from prediction import split, model\n",
    "from sklearn.model_selection import train_test_split\n",
    "\n",
    "# third interface\n",
    "import math\n",
    "from tensorflow.keras.models import load_model\n",
    "from sklearn.metrics import classification_report, confusion_matrix, accuracy_score\n",
    "import matplotlib.pyplot as plt\n",
    "import seaborn as sns\n",
    "\n",
    "# List all files in the directory\n",
    "files = glob.glob('assets/' + '*')\n",
    "\n",
    "# Delete each file\n",
    "for file in files:\n",
    "    os.remove(file)"
   ]
  },
  {
   "cell_type": "markdown",
   "metadata": {},
   "source": [
    "# Fetch Data"
   ]
  },
  {
   "cell_type": "code",
   "execution_count": 2,
   "metadata": {},
   "outputs": [
    {
     "data": {
      "application/vnd.jupyter.widget-view+json": {
       "model_id": "6da2167315524defab0cc184c4bbcf46",
       "version_major": 2,
       "version_minor": 0
      },
      "text/plain": [
       "HTML(value='<h2 style=\"font-weight: bold; color: black;\">Fetch Data</h2>', placeholder='')"
      ]
     },
     "metadata": {},
     "output_type": "display_data"
    },
    {
     "data": {
      "application/vnd.jupyter.widget-view+json": {
       "model_id": "46197e925c8246cab1427219de34c1d6",
       "version_major": 2,
       "version_minor": 0
      },
      "text/plain": [
       "Text(value='', description='Data Path:', placeholder='Enter path to your data here')"
      ]
     },
     "metadata": {},
     "output_type": "display_data"
    },
    {
     "data": {
      "application/vnd.jupyter.widget-view+json": {
       "model_id": "d6fbaa87c9e14965af0c8b6c202725d3",
       "version_major": 2,
       "version_minor": 0
      },
      "text/plain": [
       "Button(description='Load Data', style=ButtonStyle())"
      ]
     },
     "metadata": {},
     "output_type": "display_data"
    },
    {
     "data": {
      "application/vnd.jupyter.widget-view+json": {
       "model_id": "c64f5eb02c654620b944a520024a5d59",
       "version_major": 2,
       "version_minor": 0
      },
      "text/plain": [
       "Text(value='', description='Label Path:', placeholder='Enter path to your label list here')"
      ]
     },
     "metadata": {},
     "output_type": "display_data"
    },
    {
     "data": {
      "application/vnd.jupyter.widget-view+json": {
       "model_id": "50006c2444b94fecb2d83b9097fa8372",
       "version_major": 2,
       "version_minor": 0
      },
      "text/plain": [
       "Button(description='Load Label List', style=ButtonStyle())"
      ]
     },
     "metadata": {},
     "output_type": "display_data"
    },
    {
     "data": {
      "application/vnd.jupyter.widget-view+json": {
       "model_id": "d1a544660ac94c38ab7c04e38b2ba955",
       "version_major": 2,
       "version_minor": 0
      },
      "text/plain": [
       "Text(value='', description='Video Path:', placeholder='Enter path to your video here')"
      ]
     },
     "metadata": {},
     "output_type": "display_data"
    },
    {
     "data": {
      "application/vnd.jupyter.widget-view+json": {
       "model_id": "ca4be39e762445288515ff7afa600df8",
       "version_major": 2,
       "version_minor": 0
      },
      "text/plain": [
       "Button(description='Load Video Path', style=ButtonStyle())"
      ]
     },
     "metadata": {},
     "output_type": "display_data"
    },
    {
     "name": "stdout",
     "output_type": "stream",
     "text": [
      "Data to manually label copied to assets\\manual_label_df.csv.\n",
      "Label list copied to assets\\label_list.csv.\n",
      "Video copied to assets\\manual_video.mp4.\n"
     ]
    }
   ],
   "source": [
    "info = widgets.HTML(\n",
    "    value='<h2 style=\"font-weight: bold; color: black;\">Fetch Data</h2>',\n",
    "    placeholder='',\n",
    "    description='',\n",
    ")\n",
    "display(info)\n",
    "\n",
    "# Add a text widget for specifying the path to the raw TS data\n",
    "raw_ts_path_input = widgets.Text(\n",
    "    value='',\n",
    "    placeholder='Enter path to your data here',\n",
    "    description='Data Path:',\n",
    "    disabled=False\n",
    ")\n",
    "display(raw_ts_path_input)\n",
    "\n",
    "# Function to load the raw TS data and copy it to the assets directory\n",
    "def load_and_copy_raw_ts(path):\n",
    "    assets_dir = \"assets\"\n",
    "    output_file_name = \"manual_label_df.csv\"  # Desired file name\n",
    "\n",
    "    if os.path.isfile(path):\n",
    "        if not os.path.isdir(assets_dir):\n",
    "            os.makedirs(assets_dir)\n",
    "\n",
    "        shutil.copy(path, os.path.join(assets_dir, output_file_name))\n",
    "        print(f\"Data to manually label copied to {os.path.join(assets_dir, output_file_name)}.\")\n",
    "    else:\n",
    "        print(\"Data file not found.\")\n",
    "\n",
    "# Button to load the raw TS data path\n",
    "load_raw_ts_button = widgets.Button(description=\"Load Data\")\n",
    "\n",
    "# Callback for the load raw TS data path button\n",
    "def on_load_raw_ts_button_clicked(b):\n",
    "    global raw_ts_path\n",
    "    raw_ts_path = load_and_copy_raw_ts(raw_ts_path_input.value)\n",
    "\n",
    "load_raw_ts_button.on_click(on_load_raw_ts_button_clicked)\n",
    "display(load_raw_ts_button)\n",
    "\n",
    "# Add a text widget for specifying the path to the list of labels\n",
    "labels_path_input = widgets.Text(\n",
    "    value='',\n",
    "    placeholder='Enter path to your label list here',\n",
    "    description='Label Path:',\n",
    "    disabled=False\n",
    ")\n",
    "display(labels_path_input)\n",
    "\n",
    "# Function to load the labels list and copy it to the assets directory\n",
    "def load_and_copy_labels(path):\n",
    "    assets_dir = \"assets\"\n",
    "    output_file_name = \"label_list.csv\"  # Desired file name\n",
    "\n",
    "    if os.path.isfile(path):\n",
    "        if not os.path.isdir(assets_dir):\n",
    "            os.makedirs(assets_dir)\n",
    "\n",
    "        shutil.copy(path, os.path.join(assets_dir, output_file_name))\n",
    "        print(f\"Label list copied to {os.path.join(assets_dir, output_file_name)}.\")\n",
    "    else:\n",
    "        print(\"Label list file not found.\")\n",
    "\n",
    "# Button to load the labels list path\n",
    "load_labels_button = widgets.Button(description=\"Load Label List\")\n",
    "\n",
    "# Callback for the load labels list path button\n",
    "def on_load_labels_button_clicked(b):\n",
    "    global labels_path\n",
    "    labels_path = load_and_copy_labels(labels_path_input.value)\n",
    "\n",
    "load_labels_button.on_click(on_load_labels_button_clicked)\n",
    "display(load_labels_button)\n",
    "\n",
    "# Add a text widget for specifying the video path\n",
    "video_path_input = widgets.Text(\n",
    "    value='',\n",
    "    placeholder='Enter path to your video here',\n",
    "    description='Video Path:',\n",
    "    disabled=False\n",
    ")\n",
    "display(video_path_input)\n",
    "\n",
    "# Function to load the video path and copy the video to the assets directory\n",
    "def load_and_copy_video(path):\n",
    "    assets_dir = \"assets\"\n",
    "    output_file_name = \"manual_video.mp4\"  # Desired file name\n",
    "\n",
    "    if os.path.isfile(path):\n",
    "        if not os.path.isdir(assets_dir):\n",
    "            os.makedirs(assets_dir)\n",
    "\n",
    "        shutil.copy(path, os.path.join(assets_dir, output_file_name))\n",
    "        print(f\"Video copied to {os.path.join(assets_dir, output_file_name)}.\")\n",
    "    else:\n",
    "        print(\"Video file not found.\")\n",
    "\n",
    "# Button to load the video path\n",
    "load_video_button = widgets.Button(description=\"Load Video Path\")\n",
    "\n",
    "# Callback for the load video path button\n",
    "def on_load_video_button_clicked(b):\n",
    "    global video_path\n",
    "    video_path = load_and_copy_video(video_path_input.value)\n",
    "\n",
    "load_video_button.on_click(on_load_video_button_clicked)\n",
    "display(load_video_button)"
   ]
  },
  {
   "cell_type": "code",
   "execution_count": 3,
   "metadata": {},
   "outputs": [
    {
     "data": {
      "application/vnd.jupyter.widget-view+json": {
       "model_id": "5870ed47117149788c6758ee5ad650ec",
       "version_major": 2,
       "version_minor": 0
      },
      "text/plain": [
       "Label(value='Only select the features you consider valid\\n')"
      ]
     },
     "metadata": {},
     "output_type": "display_data"
    },
    {
     "data": {
      "application/vnd.jupyter.widget-view+json": {
       "model_id": "87355c16a3cf4d62ac5c76fae16225ee",
       "version_major": 2,
       "version_minor": 0
      },
      "text/plain": [
       "GridBox(children=(Checkbox(value=False, description='datetime'), Checkbox(value=False, description='accel_x'),…"
      ]
     },
     "metadata": {},
     "output_type": "display_data"
    },
    {
     "data": {
      "application/vnd.jupyter.widget-view+json": {
       "model_id": "fe5a2c7ea91d4d188e78adc8bf1d7b21",
       "version_major": 2,
       "version_minor": 0
      },
      "text/plain": [
       "Button(description='Submit', style=ButtonStyle())"
      ]
     },
     "metadata": {},
     "output_type": "display_data"
    },
    {
     "data": {
      "application/vnd.jupyter.widget-view+json": {
       "model_id": "5f89dbaf6f66474cb27b425d51e79fa3",
       "version_major": 2,
       "version_minor": 0
      },
      "text/plain": [
       "Label(value='Select features to show on the first render of the graph\\n')"
      ]
     },
     "metadata": {},
     "output_type": "display_data"
    },
    {
     "data": {
      "application/vnd.jupyter.widget-view+json": {
       "model_id": "d50747e5a3a54019a7c946182e5e2192",
       "version_major": 2,
       "version_minor": 0
      },
      "text/plain": [
       "GridBox(children=(Checkbox(value=False, description='datetime'), Checkbox(value=False, description='accel_x'),…"
      ]
     },
     "metadata": {},
     "output_type": "display_data"
    },
    {
     "data": {
      "application/vnd.jupyter.widget-view+json": {
       "model_id": "0e7386d719c94421af3f3c310e292054",
       "version_major": 2,
       "version_minor": 0
      },
      "text/plain": [
       "Button(description='Submit', style=ButtonStyle())"
      ]
     },
     "metadata": {},
     "output_type": "display_data"
    },
    {
     "data": {
      "application/vnd.jupyter.widget-view+json": {
       "model_id": "e9f25a77b6194a83b24fb2880e7c9d05",
       "version_major": 2,
       "version_minor": 0
      },
      "text/plain": [
       "Label(value='Enter the confidence threshold (0.0 - 1.0):\\n')"
      ]
     },
     "metadata": {},
     "output_type": "display_data"
    },
    {
     "data": {
      "application/vnd.jupyter.widget-view+json": {
       "model_id": "51258bf12217487f9e5d3d19f2089a40",
       "version_major": 2,
       "version_minor": 0
      },
      "text/plain": [
       "FloatSlider(value=0.5, description='conf_thresh', max=1.0, step=0.01)"
      ]
     },
     "metadata": {},
     "output_type": "display_data"
    },
    {
     "data": {
      "application/vnd.jupyter.widget-view+json": {
       "model_id": "f2d2e38106924e488966a20c17b72355",
       "version_major": 2,
       "version_minor": 0
      },
      "text/plain": [
       "Button(description='Submit', style=ButtonStyle())"
      ]
     },
     "metadata": {},
     "output_type": "display_data"
    },
    {
     "data": {
      "application/vnd.jupyter.widget-view+json": {
       "model_id": "2e352e27526645ff84c281538a364681",
       "version_major": 2,
       "version_minor": 0
      },
      "text/plain": [
       "Label(value='Enter the window size value (integer):\\n')"
      ]
     },
     "metadata": {},
     "output_type": "display_data"
    },
    {
     "data": {
      "application/vnd.jupyter.widget-view+json": {
       "model_id": "e1731d974dd94be380cc46c1fb7f4459",
       "version_major": 2,
       "version_minor": 0
      },
      "text/plain": [
       "IntText(value=0, description='window_size')"
      ]
     },
     "metadata": {},
     "output_type": "display_data"
    },
    {
     "data": {
      "application/vnd.jupyter.widget-view+json": {
       "model_id": "8789fb0ab276492a889fa2a10ff2601f",
       "version_major": 2,
       "version_minor": 0
      },
      "text/plain": [
       "Button(description='Submit', style=ButtonStyle())"
      ]
     },
     "metadata": {},
     "output_type": "display_data"
    },
    {
     "data": {
      "application/vnd.jupyter.widget-view+json": {
       "model_id": "7c0c662c2c1f4bebbfc6c29d333e6aed",
       "version_major": 2,
       "version_minor": 0
      },
      "text/plain": [
       "Label(value='Enter the offset value in seconds (integer) (MUST ME MULTIPLE OF WINDOW SIZE *WORD BETTER LATER*.…"
      ]
     },
     "metadata": {},
     "output_type": "display_data"
    },
    {
     "data": {
      "application/vnd.jupyter.widget-view+json": {
       "model_id": "0e55f4bb4b094cf68c7b215369a172a9",
       "version_major": 2,
       "version_minor": 0
      },
      "text/plain": [
       "IntText(value=0, description='offset')"
      ]
     },
     "metadata": {},
     "output_type": "display_data"
    },
    {
     "data": {
      "application/vnd.jupyter.widget-view+json": {
       "model_id": "01a246238f7c46eab0f07d152dbad164",
       "version_major": 2,
       "version_minor": 0
      },
      "text/plain": [
       "Button(description='Submit', style=ButtonStyle())"
      ]
     },
     "metadata": {},
     "output_type": "display_data"
    },
    {
     "name": "stdout",
     "output_type": "stream",
     "text": [
      "offset: 0\n",
      "window_size: 95\n",
      "conf_thresh: 0.9\n",
      "features_to_show:  ['accel_ttl']\n",
      "valid_features:  ['accel_x', 'accel_y', 'accel_z', 'accel_ttl']\n",
      "features_to_omit:  ['datetime', 'label', 'sub']\n"
     ]
    }
   ],
   "source": [
    "df = pd.read_csv('assets/manual_label_df.csv') # time-series data\n",
    "labelListDF = pd.read_csv('assets/label_list.csv') # list of labels for ts data\n",
    "video_path = 'assets/manual_video.mp4' # local video in asset directory\n",
    "cols = list(df.columns)\n",
    "\n",
    "def create_feature_selection_ui(df, title, output_json, key_selected, key_omitted=None):\n",
    "    info = Label(title)\n",
    "    display(info)\n",
    "\n",
    "    cols = list(df.columns)\n",
    "    checkboxes = [Checkbox(value=False, description=label) for label in cols]\n",
    "    grid = GridBox(children=checkboxes, layout=Layout(grid_template_columns=\"repeat(4, 1fr)\"))\n",
    "    display(grid)\n",
    "    \n",
    "    submit_button = Button(description=\"Submit\")\n",
    "    display(submit_button)\n",
    "\n",
    "    def handle_submit(sender):\n",
    "        selected_data = [cb.description for cb in checkboxes if cb.value]\n",
    "        omitted_data = [cb.description for cb in checkboxes if not cb.value]\n",
    "\n",
    "        # Save to JSON file\n",
    "        data_to_save = {}\n",
    "        try:\n",
    "            with open(output_json, 'r') as file:\n",
    "                data_to_save = json.load(file)\n",
    "        except FileNotFoundError:\n",
    "            pass  # File doesn't exist, we'll create it\n",
    "\n",
    "        data_to_save[key_selected] = selected_data\n",
    "        if key_omitted:\n",
    "            data_to_save[key_omitted] = omitted_data\n",
    "\n",
    "        with open(output_json, 'w') as file:\n",
    "            json.dump(data_to_save, file, indent=4)\n",
    "\n",
    "        print(f\"{key_selected}: \", selected_data)\n",
    "        if key_omitted:\n",
    "            print(f\"{key_omitted}: \", omitted_data)\n",
    "  \n",
    "    submit_button.on_click(handle_submit)\n",
    "\n",
    "df = pd.read_csv('assets/manual_label_df.csv')\n",
    "\n",
    "# Stage 1: Selecting valid features\n",
    "create_feature_selection_ui(df, \n",
    "                            'Only select the features you consider valid\\n', \n",
    "                            'assets/config.json', \n",
    "                            'valid_features', \n",
    "                            'features_to_omit')\n",
    "\n",
    "# Stage 2: Selecting features to show initially\n",
    "create_feature_selection_ui(df, \n",
    "                            'Select features to show on the first render of the graph\\n', \n",
    "                            'assets/config.json', \n",
    "                            'features_to_show')\n",
    "\n",
    "def create_number_input_ui(title, output_json, key, min_val=None, max_val=None, step=None, default=0):\n",
    "    info = Label(value=title)\n",
    "    display(info)\n",
    "    \n",
    "    if min_val is not None and max_val is not None and step is not None:\n",
    "        # Use a slider for input\n",
    "        number_input = FloatSlider(value=default, min=min_val, max=max_val, step=step, description=key)\n",
    "    else:\n",
    "        # Use an integer text box for input\n",
    "        number_input = IntText(value=default, description=key)\n",
    "    display(number_input)\n",
    "\n",
    "    submit_button = Button(description=\"Submit\")\n",
    "    display(submit_button)\n",
    "\n",
    "    def handle_submit(sender):\n",
    "        input_value = number_input.value\n",
    "\n",
    "        # Save to JSON file\n",
    "        data_to_save = {}\n",
    "        try:\n",
    "            with open(output_json, 'r') as file:\n",
    "                data_to_save = json.load(file)\n",
    "        except FileNotFoundError:\n",
    "            pass  # File doesn't exist, we'll create it\n",
    "\n",
    "        data_to_save[key] = input_value\n",
    "\n",
    "        with open(output_json, 'w') as file:\n",
    "            json.dump(data_to_save, file, indent=4)\n",
    "\n",
    "        print(f\"{key}: {input_value}\")\n",
    "\n",
    "    submit_button.on_click(handle_submit)\n",
    "\n",
    "# Stage 3: Input for Confidence Threshold\n",
    "create_number_input_ui('Enter the confidence threshold (0.0 - 1.0):\\n',\n",
    "                       'assets/config.json', \n",
    "                       'conf_thresh',\n",
    "                       min_val=0.0, max_val=1.0, step=0.01, default=0.5)\n",
    "\n",
    "# Stage 4: Input for Window Size\n",
    "create_number_input_ui('Enter the window size value (integer):\\n',\n",
    "                       'assets/config.json', \n",
    "                       'window_size')\n",
    "\n",
    "# Stage 5: Input for Offset\n",
    "create_number_input_ui('Enter the offset value in seconds (integer) (MUST ME MULTIPLE OF WINDOW SIZE *WORD BETTER LATER*... 96 (window) samples = 3s in TWristAR):\\n',\n",
    "                       'assets/config.json', \n",
    "                       'offset')\n"
   ]
  },
  {
   "cell_type": "markdown",
   "metadata": {},
   "source": [
    "## Colors"
   ]
  },
  {
   "cell_type": "code",
   "execution_count": 4,
   "metadata": {},
   "outputs": [],
   "source": [
    "colorList = ('#4363d8', '#e6194b', '#3cb44b', '#f58231', '#911eb4', '#46f0f0', '#f032e6', '#bcf60c', '#fabebe',\n",
    "             '#008080', '#e6beff', '#9a6324', '#800000', '#aaffc3', '#808000', '#ffd8b1', '#000075', '#808080',\n",
    "             '#000000')\n",
    "# This assigns a specific color from colorList to each label in provided label list ** IF LABEL IS UNDEFINED COLOR IS BLACK**\n",
    "#colorDict = {label: ('#000000' if label == 'Undefined' else color) for label, color in zip(labelListDF, colorList)}\n",
    "\n",
    "# Modify the dictionary comprehension to cycle through the color list (> 20 labels)\n",
    "colorDict = {label: (colorList[i % len(colorList)] if label != 'Undefined' else '#000000') \n",
    "             for i, label in enumerate(labelListDF)}\n",
    "\n",
    "# Confidence list & dictionary\n",
    "confidenceValues = (\"High\", \"Medium\", \"Low\", \"Undefined\")\n",
    "confidenceColors = ('#3cb44b', '#ffe119', '#FF0000', '#000000')\n",
    "\n",
    "confDict = dict(zip(confidenceValues, confidenceColors))\n",
    "\n",
    "# Load selected features from the JSON configuration\n",
    "with open('assets/config.json', 'r') as file:\n",
    "    config = json.load(file)\n",
    "cols = config.get('valid_features', [])\n",
    "\n",
    "# if df has a confidence column, remove it from column list\n",
    "if \"confidence\" in cols:\n",
    "    pass\n",
    "    # cols.remove('confidence')\n",
    "# else, make a confidence column assigned an undefined\n",
    "else:\n",
    "    df['confidence'] = \"Undefined\"\n",
    "\n",
    "# if df has a label column, remove it from column list\n",
    "if \"label\" in df.columns:\n",
    "    pass\n",
    "    # cols.remove('label')\n",
    "# else, make a label column assigned an undefined\n",
    "else:\n",
    "    df['label'] = \"Undefined\"\n",
    "\n",
    "# Should be an interface to provide paths later.\n",
    "\n",
    "df.to_csv('assets/manual_label_df.csv', index=False)\n",
    "with open('assets/feature_cols.csv', 'w', newline='') as file:\n",
    "    writer = csv.writer(file)\n",
    "    writer.writerow(cols)"
   ]
  },
  {
   "cell_type": "markdown",
   "metadata": {},
   "source": [
    "# First Interface"
   ]
  },
  {
   "cell_type": "code",
   "execution_count": 5,
   "metadata": {},
   "outputs": [
    {
     "name": "stdout",
     "output_type": "stream",
     "text": [
      "Dash app running on http://127.0.0.1:8008/\n"
     ]
    }
   ],
   "source": [
    "%run 1st_app.py"
   ]
  },
  {
   "cell_type": "markdown",
   "metadata": {},
   "source": [
    "# Build Model"
   ]
  },
  {
   "cell_type": "code",
   "execution_count": 6,
   "metadata": {},
   "outputs": [
    {
     "data": {
      "application/vnd.jupyter.widget-view+json": {
       "model_id": "47cd272869df44cdba4620f3fee40725",
       "version_major": 2,
       "version_minor": 0
      },
      "text/plain": [
       "Label(value='Specifications for length of timesteps: i.e. (highest_frequency * seconds)')"
      ]
     },
     "metadata": {},
     "output_type": "display_data"
    },
    {
     "data": {
      "application/vnd.jupyter.widget-view+json": {
       "model_id": "92efd208d4094ef1958f76df94ced3a9",
       "version_major": 2,
       "version_minor": 0
      },
      "text/plain": [
       "IntText(value=96, description='Window Size:')"
      ]
     },
     "metadata": {},
     "output_type": "display_data"
    },
    {
     "data": {
      "application/vnd.jupyter.widget-view+json": {
       "model_id": "d0c65f36986740eebcf75c91349d3ef6",
       "version_major": 2,
       "version_minor": 0
      },
      "text/plain": [
       "Output()"
      ]
     },
     "metadata": {},
     "output_type": "display_data"
    },
    {
     "data": {
      "application/vnd.jupyter.widget-view+json": {
       "model_id": "8d10b7b87c284adebd3647c4c360febb",
       "version_major": 2,
       "version_minor": 0
      },
      "text/plain": [
       "IntText(value=96, description='Steps:')"
      ]
     },
     "metadata": {},
     "output_type": "display_data"
    },
    {
     "data": {
      "application/vnd.jupyter.widget-view+json": {
       "model_id": "d8f39b06c0684af5ae4011b417ecb4f4",
       "version_major": 2,
       "version_minor": 0
      },
      "text/plain": [
       "Output()"
      ]
     },
     "metadata": {},
     "output_type": "display_data"
    }
   ],
   "source": [
    "info = widgets.Label('Specifications for length of timesteps: i.e. (highest_frequency * seconds)')\n",
    "display(info)\n",
    "window_size= widgets.IntText(\n",
    "    value=96,\n",
    "    description='Window Size:',\n",
    "    disabled=False\n",
    ")\n",
    "freq = widgets.Output()\n",
    "display(window_size, freq)\n",
    "\n",
    "\n",
    "steps = widgets.IntText(\n",
    "    value= 96,\n",
    "    description='Steps:',\n",
    "    disabled=False\n",
    ")\n",
    "step = widgets.Output()\n",
    "display(steps, step)"
   ]
  },
  {
   "cell_type": "code",
   "execution_count": 7,
   "metadata": {},
   "outputs": [
    {
     "name": "stdout",
     "output_type": "stream",
     "text": [
      "Available Labels:  ['Downstairs', 'Jogging', 'Sitting', 'Standing', 'Upstairs', 'Walking', 'Other']\n",
      "Encoding labels present in the data\n",
      "{0: 'Downstairs', 1: 'Jogging', 2: 'Sitting', 3: 'Standing', 4: 'Upstairs', 5: 'Walking', 6: 'Other'}\n",
      "x shape is: (123, 96, 4)\n",
      "y shape is: (123,)\n"
     ]
    },
    {
     "data": {
      "application/vnd.jupyter.widget-view+json": {
       "model_id": "1180fcefe54c4ce0a17b02cac6c79e17",
       "version_major": 2,
       "version_minor": 0
      },
      "text/plain": [
       "Label(value='Name your model if you want to save it')"
      ]
     },
     "metadata": {},
     "output_type": "display_data"
    },
    {
     "data": {
      "application/vnd.jupyter.widget-view+json": {
       "model_id": "5f2df8f11cd14ba88b55e4147cf814fa",
       "version_major": 2,
       "version_minor": 0
      },
      "text/plain": [
       "Text(value='model', description='Model Name:', placeholder='1D_CNN')"
      ]
     },
     "metadata": {},
     "output_type": "display_data"
    },
    {
     "data": {
      "application/vnd.jupyter.widget-view+json": {
       "model_id": "f61a1f9bf2a046e8a34025da3f17fd84",
       "version_major": 2,
       "version_minor": 0
      },
      "text/plain": [
       "Output()"
      ]
     },
     "metadata": {},
     "output_type": "display_data"
    },
    {
     "data": {
      "application/vnd.jupyter.widget-view+json": {
       "model_id": "455486a2ceba4ed882b86897ed66d29a",
       "version_major": 2,
       "version_minor": 0
      },
      "text/plain": [
       "Label(value='This button will construct and train the model')"
      ]
     },
     "metadata": {},
     "output_type": "display_data"
    },
    {
     "data": {
      "application/vnd.jupyter.widget-view+json": {
       "model_id": "461e92d9e81f4fceb5bcfc4be15ef946",
       "version_major": 2,
       "version_minor": 0
      },
      "text/plain": [
       "Button(description='Build', style=ButtonStyle())"
      ]
     },
     "metadata": {},
     "output_type": "display_data"
    }
   ],
   "source": [
    "# NECESSARY STUFF TO RELOAD AFTER CHANGES IN 1ST DASH APP\n",
    "df = pd.read_csv('assets/manual_label_df.csv') # time-series data\n",
    "labelListDF = pd.read_csv('assets/label_list.csv') # list of labels for ts data\n",
    "labelList = list(labelListDF)\n",
    "\n",
    "# Build Model Begin\n",
    "cnn = model.CNN()\n",
    "newDf = df.copy()\n",
    "newDf = newDf.drop('confidence',axis = 1)\n",
    "newDf = newDf.set_index('datetime')\n",
    "\n",
    "print(\"Available Labels: \", labelList)\n",
    "print(\"Encoding labels present in the data\")\n",
    "\n",
    "# this is taken from the UI, how to get it here?\n",
    "new_np = split.TimeSeriesNP(window_size.value, steps.value)\n",
    "\n",
    "new_np.setArrays(newDf, encode=True, one_hot_encode=False ,labels= labelList)\n",
    "print(new_np.mapping)\n",
    "\n",
    "print(\"x shape is: \"+ str(new_np.x.shape))\n",
    "print(\"y shape is: \" + str(new_np.y.shape))\n",
    "\n",
    "x_train, x_validation, y_train, y_validation = train_test_split(new_np.x, new_np.y.ravel(), test_size = 0.25)\n",
    "cnn.only_train_data(x_train, x_validation, y_train, y_validation )\n",
    "\n",
    "info = widgets.Label('Name your model if you want to save it')\n",
    "display(info)\n",
    "modelName = widgets.Text(\n",
    "    value = \"model\",\n",
    "    placeholder='1D_CNN',\n",
    "    description='Model Name:',\n",
    "    disabled=False\n",
    ")\n",
    "q = widgets.Output()\n",
    "display(modelName,q)\n",
    "\n",
    "# save new_np to assets folder as pickle\n",
    "with open(os.path.join('assets', \"time_series_processed_data.pkl\"), 'wb') as file:\n",
    "    pickle.dump(new_np, file)\n",
    "\n",
    "#credit: https://stackoverflow.com/questions/58716248/how-to-create-a-simple-button-with-output-in-a-python-jupyter-notebook\n",
    "info = widgets.Label('This button will construct and train the model')\n",
    "display(info)\n",
    "\n",
    "def clicked(arg):\n",
    "    print(\"Please wait while model is built.\")\n",
    "    cnn.build()\n",
    "    cnn.train()\n",
    "    cnn.model.summary()\n",
    "\n",
    "button_download = widgets.Button(description = 'Build')   \n",
    "button_download.on_click(clicked)\n",
    "display(button_download)"
   ]
  },
  {
   "cell_type": "markdown",
   "metadata": {},
   "source": [
    "# Save Model"
   ]
  },
  {
   "cell_type": "code",
   "execution_count": 8,
   "metadata": {},
   "outputs": [
    {
     "data": {
      "application/vnd.jupyter.widget-view+json": {
       "model_id": "3a2c63dfaaa84381b692d708b16ef56d",
       "version_major": 2,
       "version_minor": 0
      },
      "text/plain": [
       "Label(value='This button will save the model')"
      ]
     },
     "metadata": {},
     "output_type": "display_data"
    },
    {
     "data": {
      "application/vnd.jupyter.widget-view+json": {
       "model_id": "15e990ec23e643a78a35b96031d3eb5b",
       "version_major": 2,
       "version_minor": 0
      },
      "text/plain": [
       "Button(description='Save Model', style=ButtonStyle())"
      ]
     },
     "metadata": {},
     "output_type": "display_data"
    }
   ],
   "source": [
    "from typing_extensions import ClassVar\n",
    "import csv\n",
    "\n",
    "original_cwd = os.getcwd()\n",
    "\n",
    "def clicked(arg):\n",
    "    try:\n",
    "        # Change to the models directory\n",
    "        models_dir = os.path.join('prediction', 'models')\n",
    "        os.makedirs(models_dir, exist_ok=True)  # Create directory if it doesn't exist\n",
    "        os.chdir(models_dir)\n",
    "        cnn.model.save(modelName.value + \".h5\")\n",
    "\n",
    "        # Change to the dimensions directory\n",
    "        dimensions_dir = os.path.join('..', 'dimensions')\n",
    "        os.makedirs(dimensions_dir, exist_ok=True)  # Create directory if it doesn't exist\n",
    "        os.chdir(dimensions_dir)\n",
    "        with open(modelName.value + \".csv\", 'w', newline='') as f:\n",
    "            print(\"Please wait while the model is being saved.\")\n",
    "            writer = csv.writer(f)\n",
    "            writer.writerow([window_size.value, steps.value])\n",
    "            print(\"Model Saved.\")\n",
    "    finally:\n",
    "        # Reset to the original working directory\n",
    "        os.chdir(original_cwd)\n",
    "\n",
    "info = widgets.Label('This button will save the model')\n",
    "display(info)\n",
    "button_download = widgets.Button(description='Save Model')   \n",
    "button_download.on_click(clicked)\n",
    "display(button_download)"
   ]
  },
  {
   "cell_type": "markdown",
   "metadata": {},
   "source": [
    "# Load Model &\n",
    "# Upload Dataset for Auto-Labeling"
   ]
  },
  {
   "cell_type": "code",
   "execution_count": 9,
   "metadata": {},
   "outputs": [
    {
     "data": {
      "text/html": [
       "\n",
       "<style>\n",
       "    .widget-radio label { /* Target labels in radio button widget */\n",
       "        color: black !important; /* Set font color to black */\n",
       "    }\n",
       "</style>\n"
      ],
      "text/plain": [
       "<IPython.core.display.HTML object>"
      ]
     },
     "metadata": {},
     "output_type": "display_data"
    },
    {
     "data": {
      "application/vnd.jupyter.widget-view+json": {
       "model_id": "fed9565472194410af75b13d8d2422cc",
       "version_major": 2,
       "version_minor": 0
      },
      "text/plain": [
       "Label(value='Select or Upload Model')"
      ]
     },
     "metadata": {},
     "output_type": "display_data"
    },
    {
     "data": {
      "application/vnd.jupyter.widget-view+json": {
       "model_id": "0199d8848be540c79000008ff0d383c1",
       "version_major": 2,
       "version_minor": 0
      },
      "text/plain": [
       "RadioButtons(description='Models:', options=('TWristARmodel.h5',), value='TWristARmodel.h5')"
      ]
     },
     "metadata": {},
     "output_type": "display_data"
    },
    {
     "data": {
      "application/vnd.jupyter.widget-view+json": {
       "model_id": "788c2ac43d1d484c9e4d72fca07da843",
       "version_major": 2,
       "version_minor": 0
      },
      "text/plain": [
       "Button(description='Submit Selection', style=ButtonStyle())"
      ]
     },
     "metadata": {},
     "output_type": "display_data"
    },
    {
     "data": {
      "application/vnd.jupyter.widget-view+json": {
       "model_id": "9f617bf9ddfe426ea8430dabf9a4d27e",
       "version_major": 2,
       "version_minor": 0
      },
      "text/plain": [
       "Label(value='Upload dataset you wish to have labeled')"
      ]
     },
     "metadata": {},
     "output_type": "display_data"
    },
    {
     "data": {
      "application/vnd.jupyter.widget-view+json": {
       "model_id": "8380412310824107b54d5678212c3dfc",
       "version_major": 2,
       "version_minor": 0
      },
      "text/plain": [
       "Text(value='', description='Data Path:', placeholder='Enter path to your dataset here')"
      ]
     },
     "metadata": {},
     "output_type": "display_data"
    },
    {
     "data": {
      "application/vnd.jupyter.widget-view+json": {
       "model_id": "77e1505f799046179410fab4d4df22e5",
       "version_major": 2,
       "version_minor": 0
      },
      "text/plain": [
       "Button(description='Load Dataset', style=ButtonStyle())"
      ]
     },
     "metadata": {},
     "output_type": "display_data"
    },
    {
     "data": {
      "application/vnd.jupyter.widget-view+json": {
       "model_id": "427b0de2206e4b1c8e26c996524dfaea",
       "version_major": 2,
       "version_minor": 0
      },
      "text/plain": [
       "Text(value='', description='Video Path:', placeholder='Enter path to your video here')"
      ]
     },
     "metadata": {},
     "output_type": "display_data"
    },
    {
     "data": {
      "application/vnd.jupyter.widget-view+json": {
       "model_id": "4d5a141519c34cf2ba997e37dbb50c2e",
       "version_major": 2,
       "version_minor": 0
      },
      "text/plain": [
       "Button(description='Load Video Path', style=ButtonStyle())"
      ]
     },
     "metadata": {},
     "output_type": "display_data"
    },
    {
     "name": "stdout",
     "output_type": "stream",
     "text": [
      "Model copied to assets directory.\n",
      "Dataset loaded successfully.\n",
      "Dataset saved to assets\\auto_label_df.csv\n",
      "Video copied to assets\\autolabel_video.mp4.\n"
     ]
    }
   ],
   "source": [
    "from IPython.display import HTML\n",
    "\n",
    "radiobut = True\n",
    "model_select = widgets.RadioButtons(\n",
    "        options=[''],\n",
    "        value= '',\n",
    "        description='Models:',\n",
    "        disabled=False\n",
    "    )\n",
    "\n",
    "# Custom CSS to change radio button label color to black\n",
    "style = \"\"\"\n",
    "<style>\n",
    "    .widget-radio label { /* Target labels in radio button widget */\n",
    "        color: black !important; /* Set font color to black */\n",
    "    }\n",
    "</style>\n",
    "\"\"\"\n",
    "display(HTML(style))\n",
    "\n",
    "if os.path.isdir(os.path.join(\"prediction\",\"models\")):\n",
    "    dir_list = os.listdir(os.path.join(\"prediction\", \"models\"))\n",
    "    model_select.options = dir_list\n",
    "\n",
    "else:\n",
    "    radiobut = False\n",
    "    model_select = widgets.Text(\n",
    "    value='',\n",
    "    placeholder='Type something',\n",
    "    description='File Path:',\n",
    "    disabled=False\n",
    ")\n",
    "# Button for submitting the model selection\n",
    "submit_button = widgets.Button(description=\"Submit Selection\")\n",
    "\n",
    "# Callback function for the button\n",
    "def on_submit_button_clicked(b):\n",
    "    selected_model_path = os.path.join(\"prediction\", \"models\", model_select.value) if radiobut else model_select.value\n",
    "    assets_dir = \"assets\"  # Define the assets directory path\n",
    "\n",
    "    # Check if the selected model exists and the assets directory exists, then copy\n",
    "    if os.path.isfile(selected_model_path) and os.path.isdir(assets_dir):\n",
    "        shutil.copy(selected_model_path, assets_dir)\n",
    "        print(\"Model copied to assets directory.\")\n",
    "    else:\n",
    "        print(\"Model not found or assets directory does not exist.\")\n",
    "\n",
    "# Bind the callback function to the button\n",
    "submit_button.on_click(on_submit_button_clicked)\n",
    "\n",
    "# Display the UI elements\n",
    "info = widgets.Label('Select or Upload Model')\n",
    "display(info)\n",
    "display(model_select)\n",
    "display(submit_button)\n",
    "\n",
    "os.chdir(os.path.join('data'))\n",
    "info = widgets.Label('Upload dataset you wish to have labeled')\n",
    "# Colab Upload\n",
    "# uploaded = files.upload()\n",
    "# file_c = list(uploaded.keys())\n",
    "# to_label_df = pd.read_csv(io.StringIO(uploaded[file_c[len(file_c) - 1]].decode('utf-8')), sep = ',')\n",
    "\n",
    "# New code for dataset path input\n",
    "data_path_input = widgets.Text(\n",
    "    value='',\n",
    "    placeholder='Enter path to your dataset here',\n",
    "    description='Data Path:',\n",
    "    disabled=False\n",
    ")\n",
    "display(info)\n",
    "display(data_path_input)\n",
    "\n",
    "# Function to load and save the dataset\n",
    "def load_and_save_dataset(path):\n",
    "    try:\n",
    "        temp_df = pd.read_csv(path, sep=',')\n",
    "        print(\"Dataset loaded successfully.\")\n",
    "\n",
    "        assets_dir = \"assets\"  # Define the assets directory path\n",
    "        save_path = os.path.join(assets_dir, \"auto_label_df.csv\") # Fixed file name\n",
    "\n",
    "        temp_df.to_csv(save_path, index=False)\n",
    "        print(f\"Dataset saved to {save_path}\")\n",
    "\n",
    "        return temp_df\n",
    "    except Exception as e:\n",
    "        print(f\"Error loading dataset: {e}\")\n",
    "        return None\n",
    "\n",
    "# Button to load the dataset\n",
    "load_data_button = widgets.Button(description=\"Load Dataset\")\n",
    "\n",
    "# Callback for the load dataset button\n",
    "def on_load_data_button_clicked(b):\n",
    "    global to_label_df\n",
    "    to_label_df = load_and_save_dataset(data_path_input.value)\n",
    "\n",
    "load_data_button.on_click(on_load_data_button_clicked)\n",
    "display(load_data_button)\n",
    "\n",
    "# Add a text widget for specifying the video path\n",
    "video_path_input = widgets.Text(\n",
    "    value='',\n",
    "    placeholder='Enter path to your video here',\n",
    "    description='Video Path:',\n",
    "    disabled=False\n",
    ")\n",
    "display(video_path_input)\n",
    "\n",
    "# Function to load the video path and copy the video to the assets directory\n",
    "def load_and_copy_video(path):\n",
    "    assets_dir = \"assets\"\n",
    "    output_file_name = \"autolabel_video.mp4\"  # Desired file name\n",
    "\n",
    "    if os.path.isfile(path):\n",
    "        if not os.path.isdir(assets_dir):\n",
    "            os.makedirs(assets_dir)\n",
    "\n",
    "        shutil.copy(path, os.path.join(assets_dir, output_file_name))\n",
    "        print(f\"Video copied to {os.path.join(assets_dir, output_file_name)}.\")\n",
    "    else:\n",
    "        print(\"Video file not found.\")\n",
    "\n",
    "# Button to load the video path\n",
    "load_video_button = widgets.Button(description=\"Load Video Path\")\n",
    "\n",
    "# Callback for the load video path button\n",
    "def on_load_video_button_clicked(b):\n",
    "    global video_path\n",
    "    video_path = load_and_copy_video(video_path_input.value)\n",
    "\n",
    "load_video_button.on_click(on_load_video_button_clicked)\n",
    "display(load_video_button)\n",
    "\n",
    "os.chdir(original_cwd)"
   ]
  },
  {
   "cell_type": "markdown",
   "metadata": {},
   "source": [
    "# Second Dash App (Correct Training Data for Built Model with UMAP)"
   ]
  },
  {
   "cell_type": "code",
   "execution_count": 10,
   "metadata": {},
   "outputs": [
    {
     "name": "stdout",
     "output_type": "stream",
     "text": [
      "WARNING:tensorflow:From c:\\Users\\trist\\miniconda3\\envs\\dev-alvi\\Lib\\site-packages\\keras\\src\\backend.py:1398: The name tf.executing_eagerly_outside_functions is deprecated. Please use tf.compat.v1.executing_eagerly_outside_functions instead.\n",
      "\n",
      "WARNING:tensorflow:From c:\\Users\\trist\\miniconda3\\envs\\dev-alvi\\Lib\\site-packages\\keras\\src\\backend.py:6642: The name tf.nn.max_pool is deprecated. Please use tf.nn.max_pool2d instead.\n",
      "\n",
      "Model loaded from: g:\\My Drive\\School\\time-series-label-assist\\assets\\TWristARmodel.h5\n",
      "{'Downstairs': 0, 'Jogging': 1, 'Sitting': 2, 'Standing': 3, 'Upstairs': 4, 'Walking': 5, 'Other': 6}\n"
     ]
    },
    {
     "name": "stderr",
     "output_type": "stream",
     "text": [
      "G:\\My Drive\\School\\time-series-label-assist\\2nd_app.py:181: FutureWarning:\n",
      "\n",
      "Setting an item of incompatible dtype is deprecated and will raise an error in a future version of pandas. Value 'Standing' has dtype incompatible with float64, please explicitly cast to a compatible dtype first.\n",
      "\n",
      "c:\\Users\\trist\\miniconda3\\envs\\dev-alvi\\Lib\\site-packages\\plotly\\express\\_core.py:2065: FutureWarning:\n",
      "\n",
      "When grouping with a length-1 list-like, you will need to pass a length-1 tuple to get_group in a future version of pandas. Pass `(name,)` instead of `name` to silence this warning.\n",
      "\n"
     ]
    },
    {
     "name": "stdout",
     "output_type": "stream",
     "text": [
      "Dash app running on http://127.0.0.1:8080/\n"
     ]
    },
    {
     "name": "stderr",
     "output_type": "stream",
     "text": [
      "c:\\Users\\trist\\miniconda3\\envs\\dev-alvi\\Lib\\site-packages\\plotly\\express\\_core.py:2065: FutureWarning:\n",
      "\n",
      "When grouping with a length-1 list-like, you will need to pass a length-1 tuple to get_group in a future version of pandas. Pass `(name,)` instead of `name` to silence this warning.\n",
      "\n",
      "c:\\Users\\trist\\miniconda3\\envs\\dev-alvi\\Lib\\site-packages\\plotly\\express\\_core.py:2065: FutureWarning:\n",
      "\n",
      "When grouping with a length-1 list-like, you will need to pass a length-1 tuple to get_group in a future version of pandas. Pass `(name,)` instead of `name` to silence this warning.\n",
      "\n",
      "c:\\Users\\trist\\miniconda3\\envs\\dev-alvi\\Lib\\site-packages\\plotly\\express\\_core.py:2065: FutureWarning:\n",
      "\n",
      "When grouping with a length-1 list-like, you will need to pass a length-1 tuple to get_group in a future version of pandas. Pass `(name,)` instead of `name` to silence this warning.\n",
      "\n",
      "c:\\Users\\trist\\miniconda3\\envs\\dev-alvi\\Lib\\site-packages\\plotly\\express\\_core.py:2065: FutureWarning:\n",
      "\n",
      "When grouping with a length-1 list-like, you will need to pass a length-1 tuple to get_group in a future version of pandas. Pass `(name,)` instead of `name` to silence this warning.\n",
      "\n"
     ]
    },
    {
     "name": "stdout",
     "output_type": "stream",
     "text": [
      "UMAP point clicked: {'points': [{'curveNumber': 1, 'pointNumber': 40, 'pointIndex': 40, 'x': -4.401796817779541, 'y': 11.835975646972656, 'hovertext': 'Sitting', 'bbox': {'x0': 249.17000000000002, 'x1': 255.17000000000002, 'y0': 355.84000000000003, 'y1': 361.84000000000003}, 'customdata': [103]}]}\n",
      "Selected index: 103, Current Label: Standing\n"
     ]
    },
    {
     "name": "stderr",
     "output_type": "stream",
     "text": [
      "c:\\Users\\trist\\miniconda3\\envs\\dev-alvi\\Lib\\site-packages\\plotly\\express\\_core.py:2065: FutureWarning:\n",
      "\n",
      "When grouping with a length-1 list-like, you will need to pass a length-1 tuple to get_group in a future version of pandas. Pass `(name,)` instead of `name` to silence this warning.\n",
      "\n",
      "G:\\My Drive\\School\\time-series-label-assist\\2nd_app.py:181: FutureWarning:\n",
      "\n",
      "Setting an item of incompatible dtype is deprecated and will raise an error in a future version of pandas. Value 'Standing' has dtype incompatible with float64, please explicitly cast to a compatible dtype first.\n",
      "\n",
      "c:\\Users\\trist\\miniconda3\\envs\\dev-alvi\\Lib\\site-packages\\plotly\\express\\_core.py:2065: FutureWarning:\n",
      "\n",
      "When grouping with a length-1 list-like, you will need to pass a length-1 tuple to get_group in a future version of pandas. Pass `(name,)` instead of `name` to silence this warning.\n",
      "\n",
      "c:\\Users\\trist\\miniconda3\\envs\\dev-alvi\\Lib\\site-packages\\plotly\\express\\_core.py:2065: FutureWarning:\n",
      "\n",
      "When grouping with a length-1 list-like, you will need to pass a length-1 tuple to get_group in a future version of pandas. Pass `(name,)` instead of `name` to silence this warning.\n",
      "\n",
      "c:\\Users\\trist\\miniconda3\\envs\\dev-alvi\\Lib\\site-packages\\plotly\\express\\_core.py:2065: FutureWarning:\n",
      "\n",
      "When grouping with a length-1 list-like, you will need to pass a length-1 tuple to get_group in a future version of pandas. Pass `(name,)` instead of `name` to silence this warning.\n",
      "\n",
      "c:\\Users\\trist\\miniconda3\\envs\\dev-alvi\\Lib\\site-packages\\plotly\\express\\_core.py:2065: FutureWarning:\n",
      "\n",
      "When grouping with a length-1 list-like, you will need to pass a length-1 tuple to get_group in a future version of pandas. Pass `(name,)` instead of `name` to silence this warning.\n",
      "\n",
      "c:\\Users\\trist\\miniconda3\\envs\\dev-alvi\\Lib\\site-packages\\plotly\\express\\_core.py:2065: FutureWarning:\n",
      "\n",
      "When grouping with a length-1 list-like, you will need to pass a length-1 tuple to get_group in a future version of pandas. Pass `(name,)` instead of `name` to silence this warning.\n",
      "\n",
      "c:\\Users\\trist\\miniconda3\\envs\\dev-alvi\\Lib\\site-packages\\plotly\\express\\_core.py:2065: FutureWarning:\n",
      "\n",
      "When grouping with a length-1 list-like, you will need to pass a length-1 tuple to get_group in a future version of pandas. Pass `(name,)` instead of `name` to silence this warning.\n",
      "\n",
      "c:\\Users\\trist\\miniconda3\\envs\\dev-alvi\\Lib\\site-packages\\plotly\\express\\_core.py:2065: FutureWarning:\n",
      "\n",
      "When grouping with a length-1 list-like, you will need to pass a length-1 tuple to get_group in a future version of pandas. Pass `(name,)` instead of `name` to silence this warning.\n",
      "\n"
     ]
    },
    {
     "name": "stdout",
     "output_type": "stream",
     "text": [
      "UMAP point clicked: {'points': [{'curveNumber': 1, 'pointNumber': 19, 'pointIndex': 19, 'x': 7.893330097198486, 'y': 3.0846784114837646, 'hovertext': 'Sitting', 'bbox': {'x0': 400.64, 'x1': 406.64, 'y0': 581.42, 'y1': 587.42}, 'customdata': [62]}]}\n",
      "Selected index: 62, Current Label: Standing\n"
     ]
    },
    {
     "name": "stderr",
     "output_type": "stream",
     "text": [
      "c:\\Users\\trist\\miniconda3\\envs\\dev-alvi\\Lib\\site-packages\\plotly\\express\\_core.py:2065: FutureWarning:\n",
      "\n",
      "When grouping with a length-1 list-like, you will need to pass a length-1 tuple to get_group in a future version of pandas. Pass `(name,)` instead of `name` to silence this warning.\n",
      "\n",
      "c:\\Users\\trist\\miniconda3\\envs\\dev-alvi\\Lib\\site-packages\\plotly\\express\\_core.py:2065: FutureWarning:\n",
      "\n",
      "When grouping with a length-1 list-like, you will need to pass a length-1 tuple to get_group in a future version of pandas. Pass `(name,)` instead of `name` to silence this warning.\n",
      "\n",
      "c:\\Users\\trist\\miniconda3\\envs\\dev-alvi\\Lib\\site-packages\\plotly\\express\\_core.py:2065: FutureWarning:\n",
      "\n",
      "When grouping with a length-1 list-like, you will need to pass a length-1 tuple to get_group in a future version of pandas. Pass `(name,)` instead of `name` to silence this warning.\n",
      "\n",
      "c:\\Users\\trist\\miniconda3\\envs\\dev-alvi\\Lib\\site-packages\\plotly\\express\\_core.py:2065: FutureWarning:\n",
      "\n",
      "When grouping with a length-1 list-like, you will need to pass a length-1 tuple to get_group in a future version of pandas. Pass `(name,)` instead of `name` to silence this warning.\n",
      "\n",
      "c:\\Users\\trist\\miniconda3\\envs\\dev-alvi\\Lib\\site-packages\\plotly\\express\\_core.py:2065: FutureWarning:\n",
      "\n",
      "When grouping with a length-1 list-like, you will need to pass a length-1 tuple to get_group in a future version of pandas. Pass `(name,)` instead of `name` to silence this warning.\n",
      "\n",
      "c:\\Users\\trist\\miniconda3\\envs\\dev-alvi\\Lib\\site-packages\\plotly\\express\\_core.py:2065: FutureWarning:\n",
      "\n",
      "When grouping with a length-1 list-like, you will need to pass a length-1 tuple to get_group in a future version of pandas. Pass `(name,)` instead of `name` to silence this warning.\n",
      "\n",
      "c:\\Users\\trist\\miniconda3\\envs\\dev-alvi\\Lib\\site-packages\\plotly\\express\\_core.py:2065: FutureWarning:\n",
      "\n",
      "When grouping with a length-1 list-like, you will need to pass a length-1 tuple to get_group in a future version of pandas. Pass `(name,)` instead of `name` to silence this warning.\n",
      "\n",
      "c:\\Users\\trist\\miniconda3\\envs\\dev-alvi\\Lib\\site-packages\\plotly\\express\\_core.py:2065: FutureWarning:\n",
      "\n",
      "When grouping with a length-1 list-like, you will need to pass a length-1 tuple to get_group in a future version of pandas. Pass `(name,)` instead of `name` to silence this warning.\n",
      "\n"
     ]
    },
    {
     "name": "stdout",
     "output_type": "stream",
     "text": [
      "UMAP point clicked: {'points': [{'curveNumber': 0, 'pointNumber': 64, 'pointIndex': 64, 'x': 0.9578282237052917, 'y': 7.916509628295898, 'hovertext': 'Standing', 'bbox': {'x0': 342.32, 'x1': 348.32, 'y0': 478.78, 'y1': 484.78}, 'customdata': [103]}]}\n",
      "Selected index: 103, Current Label: Standing\n"
     ]
    },
    {
     "name": "stderr",
     "output_type": "stream",
     "text": [
      "c:\\Users\\trist\\miniconda3\\envs\\dev-alvi\\Lib\\site-packages\\plotly\\express\\_core.py:2065: FutureWarning:\n",
      "\n",
      "When grouping with a length-1 list-like, you will need to pass a length-1 tuple to get_group in a future version of pandas. Pass `(name,)` instead of `name` to silence this warning.\n",
      "\n",
      "c:\\Users\\trist\\miniconda3\\envs\\dev-alvi\\Lib\\site-packages\\plotly\\express\\_core.py:2065: FutureWarning:\n",
      "\n",
      "When grouping with a length-1 list-like, you will need to pass a length-1 tuple to get_group in a future version of pandas. Pass `(name,)` instead of `name` to silence this warning.\n",
      "\n"
     ]
    }
   ],
   "source": [
    "%run 2nd_app.py"
   ]
  },
  {
   "cell_type": "markdown",
   "metadata": {},
   "source": [
    "## Retrain model + Save"
   ]
  },
  {
   "cell_type": "markdown",
   "metadata": {},
   "source": [
    "# Predict Labels"
   ]
  },
  {
   "cell_type": "markdown",
   "metadata": {},
   "source": [
    "#### Specifications for Length of Timesteps"
   ]
  },
  {
   "cell_type": "code",
   "execution_count": null,
   "metadata": {},
   "outputs": [],
   "source": [
    "info = widgets.Label('Specifications for length of timesteps: i.e. (highest_frequency * seconds)')\n",
    "display(info)\n",
    "window_size_pred= widgets.IntText(\n",
    "    value=96,\n",
    "    description='Window Size:',\n",
    "    disabled=False\n",
    ")\n",
    "freq_pred = widgets.Output()\n",
    "display(window_size_pred, freq_pred)\n",
    "\n",
    "steps_pred = widgets.IntText(\n",
    "    value= 96,\n",
    "    description='Steps:',\n",
    "    disabled=False\n",
    ")\n",
    "step_pred = widgets.Output()\n",
    "display(steps_pred, step_pred)"
   ]
  },
  {
   "cell_type": "code",
   "execution_count": null,
   "metadata": {},
   "outputs": [],
   "source": [
    "\"\"\"\n",
    "citations:\n",
    "getting name of a file without the extension:       https://theprogrammingexpert.com/python-remove-extension/\n",
    "interesting techniques for labeling df:             https://www.geeksforgeeks.org/label-based-indexing-to-the-pandas-dataframe/\n",
    "fill in values of df according to dictionary:       https://stackoverflow.com/questions/64481108/assign-a-value-between-index-values-ranges-in-pandas\n",
    "\n",
    "\"\"\"\n",
    "\n",
    "working_dir = original_cwd\n",
    "\n",
    "#this one works\n",
    "def getNPdimensions(modelname, fileloc):\n",
    "    filename = modelname[:len(modelname) - 3]\n",
    "    filename = filename + \".csv\"\n",
    "    path = os.path.join(fileloc, filename)\n",
    "\n",
    "    np_dimensions = []\n",
    "    if os.path.isfile(path):\n",
    "        fileList = pd.read_csv(path)\n",
    "        np_dimensions = list(fileList)\n",
    "    np_dimensions[0] = int(math.floor(float(np_dimensions[0])))\n",
    "    np_dimensions[1] = int(math.floor(float(np_dimensions[1])))\n",
    "\n",
    "    return np_dimensions\n",
    "###################################################################\n",
    "\n",
    "\n",
    "\n",
    "if radiobut:\n",
    "    previousPath = os.getcwd()\n",
    "    modelPath = os.path.join(working_dir,\"prediction\",\"models\", model_select.value)\n",
    "    new_model = load_model(modelPath)\n",
    "    os.chdir(previousPath)\n",
    "\n",
    "elif(os.path.isfile(model_select.value)):\n",
    "    new_model = load_model(model_select.value)\n",
    "\n",
    "dfA = to_label_df # to_label_df is the df of the uploaded unlabeled set to autolabel\n",
    "                  # labels_dict = npObject.mapping\n",
    "\n",
    "# SPECIFIC TO DR. NGU'S DATASET\n",
    "# dfA = dfA.rename(columns={'p_accelerometer_time' : 'datetime'})\n",
    "dfA['sub'] = \"Undefined\"\n",
    "dfA = dfA.set_index('datetime')\n",
    "###################################################################\n",
    "\n",
    "np_dimensions = getNPdimensions(model_select.value , os.path.join(working_dir,\"prediction\",\"dimensions\"))\n",
    "#np_labeling = split.TimeSeriesNP(96,32)\n",
    "np_labeling = split.TimeSeriesNP(window_size_pred.value, steps_pred.value)\n",
    "print(\"Label list used:\\n\", labelList)\n",
    "np_labeling.setArrays(dfA, encode=True, one_hot_encode=True, labels=labelList, filter=False)\n",
    "\n",
    "cnn = model.CNN()\n",
    "testModel = model.CNN()\n",
    "testModel.setModel(new_model)\n",
    "testModel.only_test_data(np_labeling.x, np_labeling.y)\n",
    "\n",
    "\n",
    "####################################################################\n",
    "def label_confidence(l):\n",
    "    return max(l)/sum(l)\n",
    "\n",
    "def pred_to_labels(predictions):\n",
    "    y_pred = np.argmax(predictions, axis=-1)\n",
    "    y_pred_labels = np.vectorize(labels_dict.get)(y_pred)\n",
    "    return y_pred_labels\n",
    "\n",
    "def flag_sus_labels(npObject, labels_dict, labels, model, CON_THRESHOLD):\n",
    "    predictions = model.predict(npObject.x, verbose = 0, batch_size = 32)\n",
    "    y_pred = np.argmax(predictions, axis=-1)\n",
    "    y_pred_labels = np.vectorize(labels_dict.get)(y_pred)\n",
    "    unique, counts = np.unique(y_pred_labels, return_counts=True)\n",
    "\n",
    "    fig, ax = plt.subplots(1,1,figsize=(6,3))\n",
    "    ax.plot(y_pred,linestyle=\"\",marker=\".\")\n",
    "    plt.title('Predicted Activity Labels')\n",
    "    ax.set_xlabel('Elapsed Time(seconds)')\n",
    "\n",
    "    ax.set_yticks(np.arange(len(labels)))\n",
    "    ax.set_yticklabels(labels)\n",
    "    ax.grid()\n",
    "    for i in range(0, len(predictions), 20):\n",
    "        if sum([label_confidence(j)<CON_THRESHOLD for j in predictions[i:i+20]]) >0:\n",
    "            plt.axvspan(i, i+20, color='gold', alpha=0.2)\n",
    "\n",
    "    plt.tight_layout() # keeps labels from being cutoff when saving as pdf\n",
    "    plt.show()\n",
    "    return predictions\n",
    "\n",
    "def labelDf(df, labels_dict, model, npObject):\n",
    "    #copy the dataframe and initialize all predicted labels to Undefined\n",
    "    labeledDf = df\n",
    "    labeledDf['pred_labels'] = \"Undefined\"\n",
    "\n",
    "    #reformat y_pred to hold the string values for labels\n",
    "    predictions = model.predict(npObject.x, verbose = 0, batch_size = 32)\n",
    "    y_pred = np.argmax(predictions, axis=-1)\n",
    "    y_pred_labels = np.vectorize(labels_dict.get)(y_pred)\n",
    "    unique, counts = np.unique(y_pred_labels, return_counts=True)\n",
    "\n",
    "    #print out relevant information about labels and dictionary\n",
    "    print(\"Final Predicted Label Counts: \")\n",
    "    print (np.asarray((unique, counts)).T)\n",
    "    #label the new dataframe\n",
    "\n",
    "    for z in range(y_pred_labels.size):\n",
    "        start = npObject.time[z][0]\n",
    "        end = npObject.time[z][1]\n",
    "        labeledDf.loc[start : end, ['pred_labels']] = y_pred_labels[z]\n",
    "\n",
    "    return predictions\n",
    "\n",
    "def confusion_mat(npObject, model, labelLoc):\n",
    "    labels_dict = npObject.mapping\n",
    "\n",
    "    predictions = model.model.predict(npObject.x, verbose = 0, batch_size = 32)\n",
    "    y_pred = np.argmax(predictions, axis=-1)\n",
    "    y_pred_labels = np.vectorize(labels_dict.get)(y_pred)\n",
    "    unique, counts = np.unique(y_pred_labels, return_counts=True)\n",
    "\n",
    "    test_acc , y_pred = model.run()\n",
    "    y_test_act = np.argmax(npObject.y, axis=-1)\n",
    "    class_rpt_for_log = classification_report(y_test_act, y_pred, target_names = unique)\n",
    "    print(class_rpt_for_log)\n",
    "\n",
    "    cm = confusion_matrix(y_test_act, y_pred)\n",
    "    cm_df = pd.DataFrame(cm, index = unique, columns = unique)\n",
    "    fig = plt.figure(figsize=(9,8))\n",
    "    sns.heatmap(cm_df, annot=True, fmt='d', cmap= 'cubehelix_r')\n",
    "    plt.title('1D CNN Accuracy:{0:.3f}'.format(accuracy_score(y_test_act, y_pred)))\n",
    "    plt.ylabel('True Label')\n",
    "    plt.xlabel('Predicted Label')\n",
    "    plt.tight_layout()\n",
    "    plt.show()\n",
    "\n",
    "info = widgets.Label('This button will add predicted labels to the dataset using the model you selected')\n",
    "display(info)\n",
    "def clicked(arg):\n",
    "    print(\"Label Mapping: \", np_labeling.mapping)\n",
    "    predictions = labelDf(dfA, np_labeling.mapping, testModel.model, np_labeling)\n",
    "    global autoLabelPred\n",
    "    autoLabelPred = predictions\n",
    "    #flag_sus_labels(new_np, labels_to_dict(os.path.join(os.getcwd(), labelList)),os.path.join(os.getcwd(), 'testLabelList.csv'), testModel.model, 0.99)\n",
    "    #confusion_mat(new_np ,testModel, os.path.join(os.getcwd(), labelList))\n",
    "\n",
    "    labeled_file_path = os.path.join(working_dir, \"assets\", 'auto_label_df.csv')\n",
    "    # Check if there's a datetime column in your DataFrame\n",
    "    if 'datetime' in dfA.columns:\n",
    "        dfA.to_csv(labeled_file_path, index=False)\n",
    "    elif 'datetime' in dfA.index:\n",
    "        dfA.reset_index(inplace=True)\n",
    "        dfA.to_csv(labeled_file_path, index=False)\n",
    "    print(f\"Updated dataset saved to {labeled_file_path}\")\n",
    "\n",
    "    labeled_array_file_path = os.path.join(working_dir, \"assets\", \"predictions.npy\")\n",
    "    np.save(labeled_array_file_path, predictions)\n",
    "    print(f\"NumPy predictions array saved to {labeled_array_file_path}\")\n",
    "\n",
    "button_download = widgets.Button(description = 'Add Labels')\n",
    "button_download.on_click(clicked)\n",
    "display(button_download)\n"
   ]
  },
  {
   "cell_type": "markdown",
   "metadata": {},
   "source": [
    "# Review Auto Labels"
   ]
  },
  {
   "cell_type": "markdown",
   "metadata": {},
   "source": [
    "### Specifications"
   ]
  },
  {
   "cell_type": "code",
   "execution_count": null,
   "metadata": {},
   "outputs": [],
   "source": [
    "#@title Specification for Confidence Threshold\n",
    "info1 = widgets.Label('If the predicted probability for a label is above this threshold, it will be considered a valid label. If it falls below this threshold, it will be flagged as suspect.')\n",
    "display(info1)\n",
    "\n",
    "info2 = widgets.Label('Enter value in range of 0-1.')\n",
    "display(info2)\n",
    "\n",
    "def on_button_clicked(b):\n",
    "    conf_thresh = float(text_ui.value)\n",
    "    print(\"Confidence Threshold is \", conf_thresh)\n",
    "    # Path to your JSON configuration file\n",
    "    config_file_path = 'assets/config.json'\n",
    "    \n",
    "    # Load the existing configuration\n",
    "    try:\n",
    "        with open(config_file_path, 'r') as file:\n",
    "            config = json.load(file)\n",
    "    except FileNotFoundError:\n",
    "        config = {}  # If the file doesn't exist, start with an empty dictionary\n",
    "    \n",
    "    # Update the configuration with the new confidence threshold\n",
    "    config['confidence_threshold'] = conf_thresh\n",
    "    \n",
    "    # Save the updated configuration back to the file\n",
    "    with open(config_file_path, 'w') as file:\n",
    "        json.dump(config, file, indent=4)\n",
    "        \n",
    "    return conf_thresh\n",
    "\n",
    "description = widgets.Label(\"Enter Confidence Threshold: \")\n",
    "text_ui = widgets.FloatText(value = 0.9)\n",
    "button = widgets.Button(description=\"Submit\")\n",
    "button.on_click(on_button_clicked)\n",
    "\n",
    "# Use HBox layout to place the text field and button side by side\n",
    "hbox = widgets.HBox([description,text_ui])\n",
    "display(hbox)\n",
    "display(button)"
   ]
  },
  {
   "cell_type": "markdown",
   "metadata": {},
   "source": [
    "# Third Dash App"
   ]
  },
  {
   "cell_type": "code",
   "execution_count": null,
   "metadata": {},
   "outputs": [],
   "source": [
    "%run 3rd_app_dev.py"
   ]
  },
  {
   "cell_type": "markdown",
   "metadata": {},
   "source": [
    "# Save Data"
   ]
  },
  {
   "cell_type": "code",
   "execution_count": null,
   "metadata": {},
   "outputs": [],
   "source": [
    "# TO DO: New directory with necessary data everystep of the way with good labels for the files."
   ]
  }
 ],
 "metadata": {
  "kernelspec": {
   "display_name": "alvi",
   "language": "python",
   "name": "python3"
  },
  "language_info": {
   "codemirror_mode": {
    "name": "ipython",
    "version": 3
   },
   "file_extension": ".py",
   "mimetype": "text/x-python",
   "name": "python",
   "nbconvert_exporter": "python",
   "pygments_lexer": "ipython3",
   "version": "3.11.7"
  }
 },
 "nbformat": 4,
 "nbformat_minor": 2
}
